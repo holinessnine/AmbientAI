{
  "cells": [
    {
      "cell_type": "markdown",
      "metadata": {
        "id": "_4X9M25jzxef"
      },
      "source": [
        "# | 실습3 | MobileNetV2 변형해 보기\n",
        "\n",
        "- **채점 기준**\n",
        "  - 아래 과제 설명을 따라야한다.\n",
        "  - test accuracy가 **80% 이상** 나와야 한다.\n",
        "- **제출**\n",
        "  - output 지우지 말아 주세요"
      ]
    },
    {
      "cell_type": "markdown",
      "metadata": {
        "id": "CbiOlVdNzxei",
        "scrolled": false
      },
      "source": [
        "---"
      ]
    },
    {
      "cell_type": "markdown",
      "metadata": {
        "id": "zlwfSBH3zxej"
      },
      "source": [
        "`BatchNormalization(axis, momentum, epsilon)` : https://keras.io/api/layers/normalization_layers/batch_normalization/\n",
        "- axis: Batch normalization이 적용될 axis. 우리는 채널에 대해서 BN을 적용할 것이다. \n",
        "- momentum: Moving average에 적용될 momentum 계수\n",
        "- epsilon: 0으로 나누는 것을 방지하기 위한 작은 수.\n",
        "\n",
        "\n",
        "`DepthwiseConv2D(kernel_size, strides, padding, use_bias, depthwise_regularizer)` : https://keras.io/api/layers/convolution_layers/depthwise_convolution2d/"
      ]
    },
    {
      "cell_type": "markdown",
      "metadata": {
        "id": "dbeM7t9Wzxek"
      },
      "source": [
        "paper:[MobileNetV3](https://openaccess.thecvf.com/content_ICCV_2019/papers/Howard_Searching_for_MobileNetV3_ICCV_2019_paper.pdf)  \n",
        "\n",
        "이번 실습에서는 MobileNetV3에서 추가된 내용 중 일부를 반영해 볼 것이다. MobilenetV3에서는 모델의 마지막 부분에 아래 그림과 같은 변화가 있었는데, 요약하자면\n",
        "* Average pooling 앞의 1x1 Convolution layer와 Average pooling layer의 순서를 바꾸어 줌으로써 Computation은 줄이면서 정보의 손실은 최소화하였다.\n",
        "* 위 변화가 일어나게 됨으로써 그 이전 Inverted residual layer에서 projection/filtering을 해 줄 필요가 없어졌다. 따라서 마지막 Inverted residual layer의 Expansion 이후 바로 Average pooling이 오게 된다.\n",
        "* 아래 그림을 보면 더 이해가 쉬울 것이다.\n",
        "<img src=\"https://user-images.githubusercontent.com/37704174/112775642-734f8a80-9078-11eb-9bc1-a860a1fea407.PNG\" width=\"700\" height=\"700\"/> \n",
        "* 마지막 Inverted residual layer는 Original last stage 그림에서 맨 앞 세개이다.\n",
        "\n",
        "\n",
        "<br>\n",
        "위 내용을 참조하여 Network의 마지막 부분을 변형한 MobileNetV2plus를 구성하라. 위 그림상의 H-swish는 고려하지 않아도 된다.\n",
        "<img src=\"https://user-images.githubusercontent.com/37704174/112777027-1229b600-907c-11eb-9f89-a7b61c0843be.PNG\" width=\"700\" height=\"700\"/>  \n",
        "\n",
        "- **채점기준**\n",
        "  - 위의 변경 사항 반영하기\n",
        "    - MobileNetV2에서 마지막 inverted residual block 및 뒷부분을 고치면 됨\n",
        "    - Average pooling의 output의 가로 세로는 1임\n",
        "  - test accuracy **80%** 이상\n",
        "    - BatchNormalization, Activation, Dropout, Regularization, Weight initialization 등 자유롭게 수정, 추가, 제거 가능\n",
        "    - `strides` 수정 가능\n",
        "    - 나머지는 그대로\n"
      ]
    },
    {
      "cell_type": "markdown",
      "metadata": {
        "id": "_zQAEuO1zxek"
      },
      "source": [
        "## Import Modules"
      ]
    },
    {
      "cell_type": "code",
      "execution_count": 1,
      "metadata": {
        "id": "PwJ-gqa8zxel",
        "scrolled": false
      },
      "outputs": [],
      "source": [
        "import tensorflow as tf\n",
        "### Q1. Import modules ###\n",
        "import numpy as np\n",
        "from tensorflow.keras.models import Model\n",
        "from tensorflow.keras.layers import Add, ReLU, Input, Dense, Activation, Flatten, Conv2D, \\\n",
        "    DepthwiseConv2D, BatchNormalization, GlobalAveragePooling2D, Dropout, AveragePooling2D\n",
        "from tensorflow.keras.regularizers import l2\n",
        "#########################"
      ]
    },
    {
      "cell_type": "code",
      "execution_count": 2,
      "metadata": {
        "colab": {
          "base_uri": "https://localhost:8080/"
        },
        "id": "4LT2NLnjXiM-",
        "outputId": "97267b4b-f489-404d-87e0-b3234ba608a3"
      },
      "outputs": [
        {
          "name": "stdout",
          "output_type": "stream",
          "text": [
            "Num_GPUs:1, List:[PhysicalDevice(name='/physical_device:GPU:0', device_type='GPU')]\n"
          ]
        }
      ],
      "source": [
        "\"\"\"\n",
        "Make sure your runtime type is GPU!\n",
        "\"\"\"\n",
        "physical_devices = tf.config.list_physical_devices('GPU')\n",
        "print('Num_GPUs:{}, List:{}'.format(len(physical_devices), physical_devices))"
      ]
    },
    {
      "cell_type": "markdown",
      "metadata": {
        "id": "C5-6x854zxem"
      },
      "source": [
        "## Inverted Residual Block"
      ]
    },
    {
      "cell_type": "code",
      "execution_count": 48,
      "metadata": {
        "id": "KGjTG3kAzxem",
        "scrolled": false
      },
      "outputs": [],
      "source": [
        "def _inverted_res_block(inputs, expansion, filters, strides):\n",
        "    x = inputs\n",
        "    in_chnls = inputs.shape[-1]\n",
        "    # Expansion\n",
        "    if expansion != 1:\n",
        "        x = Conv2D(kernel_size=1, filters=in_chnls * expansion, strides=1, padding='same', use_bias=False, kernel_regularizer=l2(4e-5))(x)\n",
        "        x = BatchNormalization(momentum=0.999, epsilon=0.001)(x)\n",
        "        x = ReLU(max_value=6)(x)\n",
        "        x = Dropout(0.2)(x)\n",
        "\n",
        "    # Depthwise convolution\n",
        "    x = DepthwiseConv2D(kernel_size=3, strides=strides, padding='same', use_bias=False, depthwise_regularizer=l2(4e-5))(x)\n",
        "    x = BatchNormalization(momentum=0.999, epsilon=0.001)(x)\n",
        "    x = ReLU(max_value=6)(x)\n",
        "\n",
        "    # Linear bottleneck\n",
        "    x = Conv2D(kernel_size=1, filters=filters, strides=1, padding='same', use_bias=False, kernel_regularizer=l2(4e-5))(x)\n",
        "    x = BatchNormalization(momentum=0.999, epsilon=0.001)(x)\n",
        "    # No activation\n",
        "    \n",
        "    # Residual connection\n",
        "    if in_chnls == filters and strides == 1:\n",
        "        x = Add()([inputs, x])\n",
        "        \n",
        "    return x #return output of layer"
      ]
    },
    {
      "cell_type": "markdown",
      "metadata": {
        "id": "VBNLdmgTzxen"
      },
      "source": [
        "## MobileNetV2 변형 구현"
      ]
    },
    {
      "cell_type": "code",
      "execution_count": 49,
      "metadata": {
        "id": "5TkdqcFRzxen",
        "scrolled": false
      },
      "outputs": [],
      "source": [
        "def MobileNetV2plus(input_shape, classes):\n",
        "    inputs = Input(shape=input_shape)\n",
        "    \n",
        "    ### Q2. Modify MobileNetV2 ###\n",
        "    # 32x32x3 - conv3\n",
        "    x = Conv2D(filters=32, kernel_size=3, strides=2, padding='same')(inputs)\n",
        "    x = BatchNormalization(momentum=0.999, epsilon=0.001)(x)\n",
        "    x = ReLU(max_value=6)(x)\n",
        "    x = Dropout(0.2)(x)\n",
        "\n",
        "    # 16x16x32 - resblock\n",
        "    x = _inverted_res_block(inputs=x, expansion=1, filters=16, strides=1)\n",
        "\n",
        "    # 16x16x16 - resblock\n",
        "    x = _inverted_res_block(inputs=x, expansion=6, filters=24, strides=2)\n",
        "    x = _inverted_res_block(inputs=x, expansion=6, filters=24, strides=1)\n",
        "    \n",
        "    # 8x8x24 - resblock\n",
        "    x = _inverted_res_block(inputs=x, expansion=6, filters=32, strides=2)\n",
        "    x = _inverted_res_block(inputs=x, expansion=6, filters=32, strides=1)\n",
        "    x = _inverted_res_block(inputs=x, expansion=6, filters=32, strides=1)\n",
        "    \n",
        "    # 4x4x32 - resblock\n",
        "    x = _inverted_res_block(inputs=x, expansion=6, filters=64, strides=2)\n",
        "    x = _inverted_res_block(inputs=x, expansion=6, filters=64, strides=1)\n",
        "    x = _inverted_res_block(inputs=x, expansion=6, filters=64, strides=1)\n",
        "    x = _inverted_res_block(inputs=x, expansion=6, filters=64, strides=1)\n",
        "    \n",
        "    # 2x2x64 - resblock\n",
        "    x = _inverted_res_block(inputs=x, expansion=6, filters=96, strides=1)\n",
        "    x = _inverted_res_block(inputs=x, expansion=6, filters=96, strides=1)\n",
        "    x = _inverted_res_block(inputs=x, expansion=6, filters=96, strides=1)\n",
        "\n",
        "    # 2x2x96 - resblock\n",
        "    x = _inverted_res_block(inputs=x, expansion=6, filters=160, strides=2)\n",
        "    x = _inverted_res_block(inputs=x, expansion=6, filters=160, strides=1)\n",
        "    x = _inverted_res_block(inputs=x, expansion=6, filters=160, strides=1)\n",
        "\n",
        "    # last inverted_resblock(modified)\n",
        "    x = Conv2D(kernel_size=1, filters=160 * 6, strides=1, padding='same', use_bias=False, kernel_regularizer=l2(4e-5))(x)\n",
        "    x = BatchNormalization(momentum=0.999, epsilon=0.001)(x)\n",
        "    x = ReLU()(x)\n",
        "    x = Dropout(0.2)(x)\n",
        "\n",
        "    # avg pool\n",
        "    x = AveragePooling2D(pool_size=x.shape[1])(x)\n",
        "\n",
        "    # conv1\n",
        "    x = Conv2D(filters=1280, kernel_size=1, strides=1)(x)\n",
        "    x = ReLU(max_value=6)(x)\n",
        "    x = Dropout(0.2)(x)\n",
        "    x = Flatten()(x)\n",
        "\n",
        "    # output\n",
        "    outputs = Dense(classes, activation='softmax')(x)\n",
        "    ##############################\n",
        "                                    \n",
        "    return Model(inputs=inputs, outputs=outputs)\n"
      ]
    },
    {
      "cell_type": "code",
      "execution_count": 50,
      "metadata": {
        "id": "1LvkStJhzxeo",
        "scrolled": false
      },
      "outputs": [],
      "source": [
        "my_mobilenet = MobileNetV2plus(input_shape=(32,32,3),classes=10)"
      ]
    },
    {
      "cell_type": "code",
      "execution_count": 6,
      "metadata": {
        "colab": {
          "base_uri": "https://localhost:8080/"
        },
        "id": "Jak1sYDXY8Fe",
        "outputId": "d1a76417-ba10-4632-9e40-113d00cc6081"
      },
      "outputs": [
        {
          "name": "stdout",
          "output_type": "stream",
          "text": [
            "Model: \"model\"\n",
            "__________________________________________________________________________________________________\n",
            " Layer (type)                   Output Shape         Param #     Connected to                     \n",
            "==================================================================================================\n",
            " input_1 (InputLayer)           [(None, 32, 32, 3)]  0           []                               \n",
            "                                                                                                  \n",
            " conv2d (Conv2D)                (None, 16, 16, 32)   896         ['input_1[0][0]']                \n",
            "                                                                                                  \n",
            " batch_normalization (BatchNorm  (None, 16, 16, 32)  128         ['conv2d[0][0]']                 \n",
            " alization)                                                                                       \n",
            "                                                                                                  \n",
            " re_lu (ReLU)                   (None, 16, 16, 32)   0           ['batch_normalization[0][0]']    \n",
            "                                                                                                  \n",
            " dropout (Dropout)              (None, 16, 16, 32)   0           ['re_lu[0][0]']                  \n",
            "                                                                                                  \n",
            " depthwise_conv2d (DepthwiseCon  (None, 16, 16, 32)  288         ['dropout[0][0]']                \n",
            " v2D)                                                                                             \n",
            "                                                                                                  \n",
            " batch_normalization_1 (BatchNo  (None, 16, 16, 32)  128         ['depthwise_conv2d[0][0]']       \n",
            " rmalization)                                                                                     \n",
            "                                                                                                  \n",
            " re_lu_1 (ReLU)                 (None, 16, 16, 32)   0           ['batch_normalization_1[0][0]']  \n",
            "                                                                                                  \n",
            " conv2d_1 (Conv2D)              (None, 16, 16, 16)   512         ['re_lu_1[0][0]']                \n",
            "                                                                                                  \n",
            " batch_normalization_2 (BatchNo  (None, 16, 16, 16)  64          ['conv2d_1[0][0]']               \n",
            " rmalization)                                                                                     \n",
            "                                                                                                  \n",
            " conv2d_2 (Conv2D)              (None, 16, 16, 96)   1536        ['batch_normalization_2[0][0]']  \n",
            "                                                                                                  \n",
            " batch_normalization_3 (BatchNo  (None, 16, 16, 96)  384         ['conv2d_2[0][0]']               \n",
            " rmalization)                                                                                     \n",
            "                                                                                                  \n",
            " re_lu_2 (ReLU)                 (None, 16, 16, 96)   0           ['batch_normalization_3[0][0]']  \n",
            "                                                                                                  \n",
            " dropout_1 (Dropout)            (None, 16, 16, 96)   0           ['re_lu_2[0][0]']                \n",
            "                                                                                                  \n",
            " depthwise_conv2d_1 (DepthwiseC  (None, 8, 8, 96)    864         ['dropout_1[0][0]']              \n",
            " onv2D)                                                                                           \n",
            "                                                                                                  \n",
            " batch_normalization_4 (BatchNo  (None, 8, 8, 96)    384         ['depthwise_conv2d_1[0][0]']     \n",
            " rmalization)                                                                                     \n",
            "                                                                                                  \n",
            " re_lu_3 (ReLU)                 (None, 8, 8, 96)     0           ['batch_normalization_4[0][0]']  \n",
            "                                                                                                  \n",
            " conv2d_3 (Conv2D)              (None, 8, 8, 24)     2304        ['re_lu_3[0][0]']                \n",
            "                                                                                                  \n",
            " batch_normalization_5 (BatchNo  (None, 8, 8, 24)    96          ['conv2d_3[0][0]']               \n",
            " rmalization)                                                                                     \n",
            "                                                                                                  \n",
            " conv2d_4 (Conv2D)              (None, 8, 8, 144)    3456        ['batch_normalization_5[0][0]']  \n",
            "                                                                                                  \n",
            " batch_normalization_6 (BatchNo  (None, 8, 8, 144)   576         ['conv2d_4[0][0]']               \n",
            " rmalization)                                                                                     \n",
            "                                                                                                  \n",
            " re_lu_4 (ReLU)                 (None, 8, 8, 144)    0           ['batch_normalization_6[0][0]']  \n",
            "                                                                                                  \n",
            " dropout_2 (Dropout)            (None, 8, 8, 144)    0           ['re_lu_4[0][0]']                \n",
            "                                                                                                  \n",
            " depthwise_conv2d_2 (DepthwiseC  (None, 8, 8, 144)   1296        ['dropout_2[0][0]']              \n",
            " onv2D)                                                                                           \n",
            "                                                                                                  \n",
            " batch_normalization_7 (BatchNo  (None, 8, 8, 144)   576         ['depthwise_conv2d_2[0][0]']     \n",
            " rmalization)                                                                                     \n",
            "                                                                                                  \n",
            " re_lu_5 (ReLU)                 (None, 8, 8, 144)    0           ['batch_normalization_7[0][0]']  \n",
            "                                                                                                  \n",
            " conv2d_5 (Conv2D)              (None, 8, 8, 24)     3456        ['re_lu_5[0][0]']                \n",
            "                                                                                                  \n",
            " batch_normalization_8 (BatchNo  (None, 8, 8, 24)    96          ['conv2d_5[0][0]']               \n",
            " rmalization)                                                                                     \n",
            "                                                                                                  \n",
            " add (Add)                      (None, 8, 8, 24)     0           ['batch_normalization_5[0][0]',  \n",
            "                                                                  'batch_normalization_8[0][0]']  \n",
            "                                                                                                  \n",
            " conv2d_6 (Conv2D)              (None, 8, 8, 144)    3456        ['add[0][0]']                    \n",
            "                                                                                                  \n",
            " batch_normalization_9 (BatchNo  (None, 8, 8, 144)   576         ['conv2d_6[0][0]']               \n",
            " rmalization)                                                                                     \n",
            "                                                                                                  \n",
            " re_lu_6 (ReLU)                 (None, 8, 8, 144)    0           ['batch_normalization_9[0][0]']  \n",
            "                                                                                                  \n",
            " dropout_3 (Dropout)            (None, 8, 8, 144)    0           ['re_lu_6[0][0]']                \n",
            "                                                                                                  \n",
            " depthwise_conv2d_3 (DepthwiseC  (None, 4, 4, 144)   1296        ['dropout_3[0][0]']              \n",
            " onv2D)                                                                                           \n",
            "                                                                                                  \n",
            " batch_normalization_10 (BatchN  (None, 4, 4, 144)   576         ['depthwise_conv2d_3[0][0]']     \n",
            " ormalization)                                                                                    \n",
            "                                                                                                  \n",
            " re_lu_7 (ReLU)                 (None, 4, 4, 144)    0           ['batch_normalization_10[0][0]'] \n",
            "                                                                                                  \n",
            " conv2d_7 (Conv2D)              (None, 4, 4, 32)     4608        ['re_lu_7[0][0]']                \n",
            "                                                                                                  \n",
            " batch_normalization_11 (BatchN  (None, 4, 4, 32)    128         ['conv2d_7[0][0]']               \n",
            " ormalization)                                                                                    \n",
            "                                                                                                  \n",
            " conv2d_8 (Conv2D)              (None, 4, 4, 192)    6144        ['batch_normalization_11[0][0]'] \n",
            "                                                                                                  \n",
            " batch_normalization_12 (BatchN  (None, 4, 4, 192)   768         ['conv2d_8[0][0]']               \n",
            " ormalization)                                                                                    \n",
            "                                                                                                  \n",
            " re_lu_8 (ReLU)                 (None, 4, 4, 192)    0           ['batch_normalization_12[0][0]'] \n",
            "                                                                                                  \n",
            " dropout_4 (Dropout)            (None, 4, 4, 192)    0           ['re_lu_8[0][0]']                \n",
            "                                                                                                  \n",
            " depthwise_conv2d_4 (DepthwiseC  (None, 4, 4, 192)   1728        ['dropout_4[0][0]']              \n",
            " onv2D)                                                                                           \n",
            "                                                                                                  \n",
            " batch_normalization_13 (BatchN  (None, 4, 4, 192)   768         ['depthwise_conv2d_4[0][0]']     \n",
            " ormalization)                                                                                    \n",
            "                                                                                                  \n",
            " re_lu_9 (ReLU)                 (None, 4, 4, 192)    0           ['batch_normalization_13[0][0]'] \n",
            "                                                                                                  \n",
            " conv2d_9 (Conv2D)              (None, 4, 4, 32)     6144        ['re_lu_9[0][0]']                \n",
            "                                                                                                  \n",
            " batch_normalization_14 (BatchN  (None, 4, 4, 32)    128         ['conv2d_9[0][0]']               \n",
            " ormalization)                                                                                    \n",
            "                                                                                                  \n",
            " add_1 (Add)                    (None, 4, 4, 32)     0           ['batch_normalization_11[0][0]', \n",
            "                                                                  'batch_normalization_14[0][0]'] \n",
            "                                                                                                  \n",
            " conv2d_10 (Conv2D)             (None, 4, 4, 192)    6144        ['add_1[0][0]']                  \n",
            "                                                                                                  \n",
            " batch_normalization_15 (BatchN  (None, 4, 4, 192)   768         ['conv2d_10[0][0]']              \n",
            " ormalization)                                                                                    \n",
            "                                                                                                  \n",
            " re_lu_10 (ReLU)                (None, 4, 4, 192)    0           ['batch_normalization_15[0][0]'] \n",
            "                                                                                                  \n",
            " dropout_5 (Dropout)            (None, 4, 4, 192)    0           ['re_lu_10[0][0]']               \n",
            "                                                                                                  \n",
            " depthwise_conv2d_5 (DepthwiseC  (None, 4, 4, 192)   1728        ['dropout_5[0][0]']              \n",
            " onv2D)                                                                                           \n",
            "                                                                                                  \n",
            " batch_normalization_16 (BatchN  (None, 4, 4, 192)   768         ['depthwise_conv2d_5[0][0]']     \n",
            " ormalization)                                                                                    \n",
            "                                                                                                  \n",
            " re_lu_11 (ReLU)                (None, 4, 4, 192)    0           ['batch_normalization_16[0][0]'] \n",
            "                                                                                                  \n",
            " conv2d_11 (Conv2D)             (None, 4, 4, 32)     6144        ['re_lu_11[0][0]']               \n",
            "                                                                                                  \n",
            " batch_normalization_17 (BatchN  (None, 4, 4, 32)    128         ['conv2d_11[0][0]']              \n",
            " ormalization)                                                                                    \n",
            "                                                                                                  \n",
            " add_2 (Add)                    (None, 4, 4, 32)     0           ['add_1[0][0]',                  \n",
            "                                                                  'batch_normalization_17[0][0]'] \n",
            "                                                                                                  \n",
            " conv2d_12 (Conv2D)             (None, 4, 4, 192)    6144        ['add_2[0][0]']                  \n",
            "                                                                                                  \n",
            " batch_normalization_18 (BatchN  (None, 4, 4, 192)   768         ['conv2d_12[0][0]']              \n",
            " ormalization)                                                                                    \n",
            "                                                                                                  \n",
            " re_lu_12 (ReLU)                (None, 4, 4, 192)    0           ['batch_normalization_18[0][0]'] \n",
            "                                                                                                  \n",
            " dropout_6 (Dropout)            (None, 4, 4, 192)    0           ['re_lu_12[0][0]']               \n",
            "                                                                                                  \n",
            " depthwise_conv2d_6 (DepthwiseC  (None, 2, 2, 192)   1728        ['dropout_6[0][0]']              \n",
            " onv2D)                                                                                           \n",
            "                                                                                                  \n",
            " batch_normalization_19 (BatchN  (None, 2, 2, 192)   768         ['depthwise_conv2d_6[0][0]']     \n",
            " ormalization)                                                                                    \n",
            "                                                                                                  \n",
            " re_lu_13 (ReLU)                (None, 2, 2, 192)    0           ['batch_normalization_19[0][0]'] \n",
            "                                                                                                  \n",
            " conv2d_13 (Conv2D)             (None, 2, 2, 64)     12288       ['re_lu_13[0][0]']               \n",
            "                                                                                                  \n",
            " batch_normalization_20 (BatchN  (None, 2, 2, 64)    256         ['conv2d_13[0][0]']              \n",
            " ormalization)                                                                                    \n",
            "                                                                                                  \n",
            " conv2d_14 (Conv2D)             (None, 2, 2, 384)    24576       ['batch_normalization_20[0][0]'] \n",
            "                                                                                                  \n",
            " batch_normalization_21 (BatchN  (None, 2, 2, 384)   1536        ['conv2d_14[0][0]']              \n",
            " ormalization)                                                                                    \n",
            "                                                                                                  \n",
            " re_lu_14 (ReLU)                (None, 2, 2, 384)    0           ['batch_normalization_21[0][0]'] \n",
            "                                                                                                  \n",
            " dropout_7 (Dropout)            (None, 2, 2, 384)    0           ['re_lu_14[0][0]']               \n",
            "                                                                                                  \n",
            " depthwise_conv2d_7 (DepthwiseC  (None, 2, 2, 384)   3456        ['dropout_7[0][0]']              \n",
            " onv2D)                                                                                           \n",
            "                                                                                                  \n",
            " batch_normalization_22 (BatchN  (None, 2, 2, 384)   1536        ['depthwise_conv2d_7[0][0]']     \n",
            " ormalization)                                                                                    \n",
            "                                                                                                  \n",
            " re_lu_15 (ReLU)                (None, 2, 2, 384)    0           ['batch_normalization_22[0][0]'] \n",
            "                                                                                                  \n",
            " conv2d_15 (Conv2D)             (None, 2, 2, 64)     24576       ['re_lu_15[0][0]']               \n",
            "                                                                                                  \n",
            " batch_normalization_23 (BatchN  (None, 2, 2, 64)    256         ['conv2d_15[0][0]']              \n",
            " ormalization)                                                                                    \n",
            "                                                                                                  \n",
            " add_3 (Add)                    (None, 2, 2, 64)     0           ['batch_normalization_20[0][0]', \n",
            "                                                                  'batch_normalization_23[0][0]'] \n",
            "                                                                                                  \n",
            " conv2d_16 (Conv2D)             (None, 2, 2, 384)    24576       ['add_3[0][0]']                  \n",
            "                                                                                                  \n",
            " batch_normalization_24 (BatchN  (None, 2, 2, 384)   1536        ['conv2d_16[0][0]']              \n",
            " ormalization)                                                                                    \n",
            "                                                                                                  \n",
            " re_lu_16 (ReLU)                (None, 2, 2, 384)    0           ['batch_normalization_24[0][0]'] \n",
            "                                                                                                  \n",
            " dropout_8 (Dropout)            (None, 2, 2, 384)    0           ['re_lu_16[0][0]']               \n",
            "                                                                                                  \n",
            " depthwise_conv2d_8 (DepthwiseC  (None, 2, 2, 384)   3456        ['dropout_8[0][0]']              \n",
            " onv2D)                                                                                           \n",
            "                                                                                                  \n",
            " batch_normalization_25 (BatchN  (None, 2, 2, 384)   1536        ['depthwise_conv2d_8[0][0]']     \n",
            " ormalization)                                                                                    \n",
            "                                                                                                  \n",
            " re_lu_17 (ReLU)                (None, 2, 2, 384)    0           ['batch_normalization_25[0][0]'] \n",
            "                                                                                                  \n",
            " conv2d_17 (Conv2D)             (None, 2, 2, 64)     24576       ['re_lu_17[0][0]']               \n",
            "                                                                                                  \n",
            " batch_normalization_26 (BatchN  (None, 2, 2, 64)    256         ['conv2d_17[0][0]']              \n",
            " ormalization)                                                                                    \n",
            "                                                                                                  \n",
            " add_4 (Add)                    (None, 2, 2, 64)     0           ['add_3[0][0]',                  \n",
            "                                                                  'batch_normalization_26[0][0]'] \n",
            "                                                                                                  \n",
            " conv2d_18 (Conv2D)             (None, 2, 2, 384)    24576       ['add_4[0][0]']                  \n",
            "                                                                                                  \n",
            " batch_normalization_27 (BatchN  (None, 2, 2, 384)   1536        ['conv2d_18[0][0]']              \n",
            " ormalization)                                                                                    \n",
            "                                                                                                  \n",
            " re_lu_18 (ReLU)                (None, 2, 2, 384)    0           ['batch_normalization_27[0][0]'] \n",
            "                                                                                                  \n",
            " dropout_9 (Dropout)            (None, 2, 2, 384)    0           ['re_lu_18[0][0]']               \n",
            "                                                                                                  \n",
            " depthwise_conv2d_9 (DepthwiseC  (None, 2, 2, 384)   3456        ['dropout_9[0][0]']              \n",
            " onv2D)                                                                                           \n",
            "                                                                                                  \n",
            " batch_normalization_28 (BatchN  (None, 2, 2, 384)   1536        ['depthwise_conv2d_9[0][0]']     \n",
            " ormalization)                                                                                    \n",
            "                                                                                                  \n",
            " re_lu_19 (ReLU)                (None, 2, 2, 384)    0           ['batch_normalization_28[0][0]'] \n",
            "                                                                                                  \n",
            " conv2d_19 (Conv2D)             (None, 2, 2, 64)     24576       ['re_lu_19[0][0]']               \n",
            "                                                                                                  \n",
            " batch_normalization_29 (BatchN  (None, 2, 2, 64)    256         ['conv2d_19[0][0]']              \n",
            " ormalization)                                                                                    \n",
            "                                                                                                  \n",
            " add_5 (Add)                    (None, 2, 2, 64)     0           ['add_4[0][0]',                  \n",
            "                                                                  'batch_normalization_29[0][0]'] \n",
            "                                                                                                  \n",
            " conv2d_20 (Conv2D)             (None, 2, 2, 384)    24576       ['add_5[0][0]']                  \n",
            "                                                                                                  \n",
            " batch_normalization_30 (BatchN  (None, 2, 2, 384)   1536        ['conv2d_20[0][0]']              \n",
            " ormalization)                                                                                    \n",
            "                                                                                                  \n",
            " re_lu_20 (ReLU)                (None, 2, 2, 384)    0           ['batch_normalization_30[0][0]'] \n",
            "                                                                                                  \n",
            " dropout_10 (Dropout)           (None, 2, 2, 384)    0           ['re_lu_20[0][0]']               \n",
            "                                                                                                  \n",
            " depthwise_conv2d_10 (Depthwise  (None, 2, 2, 384)   3456        ['dropout_10[0][0]']             \n",
            " Conv2D)                                                                                          \n",
            "                                                                                                  \n",
            " batch_normalization_31 (BatchN  (None, 2, 2, 384)   1536        ['depthwise_conv2d_10[0][0]']    \n",
            " ormalization)                                                                                    \n",
            "                                                                                                  \n",
            " re_lu_21 (ReLU)                (None, 2, 2, 384)    0           ['batch_normalization_31[0][0]'] \n",
            "                                                                                                  \n",
            " conv2d_21 (Conv2D)             (None, 2, 2, 96)     36864       ['re_lu_21[0][0]']               \n",
            "                                                                                                  \n",
            " batch_normalization_32 (BatchN  (None, 2, 2, 96)    384         ['conv2d_21[0][0]']              \n",
            " ormalization)                                                                                    \n",
            "                                                                                                  \n",
            " conv2d_22 (Conv2D)             (None, 2, 2, 576)    55296       ['batch_normalization_32[0][0]'] \n",
            "                                                                                                  \n",
            " batch_normalization_33 (BatchN  (None, 2, 2, 576)   2304        ['conv2d_22[0][0]']              \n",
            " ormalization)                                                                                    \n",
            "                                                                                                  \n",
            " re_lu_22 (ReLU)                (None, 2, 2, 576)    0           ['batch_normalization_33[0][0]'] \n",
            "                                                                                                  \n",
            " dropout_11 (Dropout)           (None, 2, 2, 576)    0           ['re_lu_22[0][0]']               \n",
            "                                                                                                  \n",
            " depthwise_conv2d_11 (Depthwise  (None, 2, 2, 576)   5184        ['dropout_11[0][0]']             \n",
            " Conv2D)                                                                                          \n",
            "                                                                                                  \n",
            " batch_normalization_34 (BatchN  (None, 2, 2, 576)   2304        ['depthwise_conv2d_11[0][0]']    \n",
            " ormalization)                                                                                    \n",
            "                                                                                                  \n",
            " re_lu_23 (ReLU)                (None, 2, 2, 576)    0           ['batch_normalization_34[0][0]'] \n",
            "                                                                                                  \n",
            " conv2d_23 (Conv2D)             (None, 2, 2, 96)     55296       ['re_lu_23[0][0]']               \n",
            "                                                                                                  \n",
            " batch_normalization_35 (BatchN  (None, 2, 2, 96)    384         ['conv2d_23[0][0]']              \n",
            " ormalization)                                                                                    \n",
            "                                                                                                  \n",
            " add_6 (Add)                    (None, 2, 2, 96)     0           ['batch_normalization_32[0][0]', \n",
            "                                                                  'batch_normalization_35[0][0]'] \n",
            "                                                                                                  \n",
            " conv2d_24 (Conv2D)             (None, 2, 2, 576)    55296       ['add_6[0][0]']                  \n",
            "                                                                                                  \n",
            " batch_normalization_36 (BatchN  (None, 2, 2, 576)   2304        ['conv2d_24[0][0]']              \n",
            " ormalization)                                                                                    \n",
            "                                                                                                  \n",
            " re_lu_24 (ReLU)                (None, 2, 2, 576)    0           ['batch_normalization_36[0][0]'] \n",
            "                                                                                                  \n",
            " dropout_12 (Dropout)           (None, 2, 2, 576)    0           ['re_lu_24[0][0]']               \n",
            "                                                                                                  \n",
            " depthwise_conv2d_12 (Depthwise  (None, 2, 2, 576)   5184        ['dropout_12[0][0]']             \n",
            " Conv2D)                                                                                          \n",
            "                                                                                                  \n",
            " batch_normalization_37 (BatchN  (None, 2, 2, 576)   2304        ['depthwise_conv2d_12[0][0]']    \n",
            " ormalization)                                                                                    \n",
            "                                                                                                  \n",
            " re_lu_25 (ReLU)                (None, 2, 2, 576)    0           ['batch_normalization_37[0][0]'] \n",
            "                                                                                                  \n",
            " conv2d_25 (Conv2D)             (None, 2, 2, 96)     55296       ['re_lu_25[0][0]']               \n",
            "                                                                                                  \n",
            " batch_normalization_38 (BatchN  (None, 2, 2, 96)    384         ['conv2d_25[0][0]']              \n",
            " ormalization)                                                                                    \n",
            "                                                                                                  \n",
            " add_7 (Add)                    (None, 2, 2, 96)     0           ['add_6[0][0]',                  \n",
            "                                                                  'batch_normalization_38[0][0]'] \n",
            "                                                                                                  \n",
            " conv2d_26 (Conv2D)             (None, 2, 2, 576)    55296       ['add_7[0][0]']                  \n",
            "                                                                                                  \n",
            " batch_normalization_39 (BatchN  (None, 2, 2, 576)   2304        ['conv2d_26[0][0]']              \n",
            " ormalization)                                                                                    \n",
            "                                                                                                  \n",
            " re_lu_26 (ReLU)                (None, 2, 2, 576)    0           ['batch_normalization_39[0][0]'] \n",
            "                                                                                                  \n",
            " dropout_13 (Dropout)           (None, 2, 2, 576)    0           ['re_lu_26[0][0]']               \n",
            "                                                                                                  \n",
            " depthwise_conv2d_13 (Depthwise  (None, 1, 1, 576)   5184        ['dropout_13[0][0]']             \n",
            " Conv2D)                                                                                          \n",
            "                                                                                                  \n",
            " batch_normalization_40 (BatchN  (None, 1, 1, 576)   2304        ['depthwise_conv2d_13[0][0]']    \n",
            " ormalization)                                                                                    \n",
            "                                                                                                  \n",
            " re_lu_27 (ReLU)                (None, 1, 1, 576)    0           ['batch_normalization_40[0][0]'] \n",
            "                                                                                                  \n",
            " conv2d_27 (Conv2D)             (None, 1, 1, 160)    92160       ['re_lu_27[0][0]']               \n",
            "                                                                                                  \n",
            " batch_normalization_41 (BatchN  (None, 1, 1, 160)   640         ['conv2d_27[0][0]']              \n",
            " ormalization)                                                                                    \n",
            "                                                                                                  \n",
            " conv2d_28 (Conv2D)             (None, 1, 1, 960)    153600      ['batch_normalization_41[0][0]'] \n",
            "                                                                                                  \n",
            " batch_normalization_42 (BatchN  (None, 1, 1, 960)   3840        ['conv2d_28[0][0]']              \n",
            " ormalization)                                                                                    \n",
            "                                                                                                  \n",
            " re_lu_28 (ReLU)                (None, 1, 1, 960)    0           ['batch_normalization_42[0][0]'] \n",
            "                                                                                                  \n",
            " dropout_14 (Dropout)           (None, 1, 1, 960)    0           ['re_lu_28[0][0]']               \n",
            "                                                                                                  \n",
            " depthwise_conv2d_14 (Depthwise  (None, 1, 1, 960)   8640        ['dropout_14[0][0]']             \n",
            " Conv2D)                                                                                          \n",
            "                                                                                                  \n",
            " batch_normalization_43 (BatchN  (None, 1, 1, 960)   3840        ['depthwise_conv2d_14[0][0]']    \n",
            " ormalization)                                                                                    \n",
            "                                                                                                  \n",
            " re_lu_29 (ReLU)                (None, 1, 1, 960)    0           ['batch_normalization_43[0][0]'] \n",
            "                                                                                                  \n",
            " conv2d_29 (Conv2D)             (None, 1, 1, 160)    153600      ['re_lu_29[0][0]']               \n",
            "                                                                                                  \n",
            " batch_normalization_44 (BatchN  (None, 1, 1, 160)   640         ['conv2d_29[0][0]']              \n",
            " ormalization)                                                                                    \n",
            "                                                                                                  \n",
            " add_8 (Add)                    (None, 1, 1, 160)    0           ['batch_normalization_41[0][0]', \n",
            "                                                                  'batch_normalization_44[0][0]'] \n",
            "                                                                                                  \n",
            " conv2d_30 (Conv2D)             (None, 1, 1, 960)    153600      ['add_8[0][0]']                  \n",
            "                                                                                                  \n",
            " batch_normalization_45 (BatchN  (None, 1, 1, 960)   3840        ['conv2d_30[0][0]']              \n",
            " ormalization)                                                                                    \n",
            "                                                                                                  \n",
            " re_lu_30 (ReLU)                (None, 1, 1, 960)    0           ['batch_normalization_45[0][0]'] \n",
            "                                                                                                  \n",
            " dropout_15 (Dropout)           (None, 1, 1, 960)    0           ['re_lu_30[0][0]']               \n",
            "                                                                                                  \n",
            " depthwise_conv2d_15 (Depthwise  (None, 1, 1, 960)   8640        ['dropout_15[0][0]']             \n",
            " Conv2D)                                                                                          \n",
            "                                                                                                  \n",
            " batch_normalization_46 (BatchN  (None, 1, 1, 960)   3840        ['depthwise_conv2d_15[0][0]']    \n",
            " ormalization)                                                                                    \n",
            "                                                                                                  \n",
            " re_lu_31 (ReLU)                (None, 1, 1, 960)    0           ['batch_normalization_46[0][0]'] \n",
            "                                                                                                  \n",
            " conv2d_31 (Conv2D)             (None, 1, 1, 160)    153600      ['re_lu_31[0][0]']               \n",
            "                                                                                                  \n",
            " batch_normalization_47 (BatchN  (None, 1, 1, 160)   640         ['conv2d_31[0][0]']              \n",
            " ormalization)                                                                                    \n",
            "                                                                                                  \n",
            " add_9 (Add)                    (None, 1, 1, 160)    0           ['add_8[0][0]',                  \n",
            "                                                                  'batch_normalization_47[0][0]'] \n",
            "                                                                                                  \n",
            " conv2d_32 (Conv2D)             (None, 1, 1, 960)    153600      ['add_9[0][0]']                  \n",
            "                                                                                                  \n",
            " batch_normalization_48 (BatchN  (None, 1, 1, 960)   3840        ['conv2d_32[0][0]']              \n",
            " ormalization)                                                                                    \n",
            "                                                                                                  \n",
            " re_lu_32 (ReLU)                (None, 1, 1, 960)    0           ['batch_normalization_48[0][0]'] \n",
            "                                                                                                  \n",
            " dropout_16 (Dropout)           (None, 1, 1, 960)    0           ['re_lu_32[0][0]']               \n",
            "                                                                                                  \n",
            " average_pooling2d (AveragePool  (None, 1, 1, 960)   0           ['dropout_16[0][0]']             \n",
            " ing2D)                                                                                           \n",
            "                                                                                                  \n",
            " conv2d_33 (Conv2D)             (None, 1, 1, 1280)   1230080     ['average_pooling2d[0][0]']      \n",
            "                                                                                                  \n",
            " re_lu_33 (ReLU)                (None, 1, 1, 1280)   0           ['conv2d_33[0][0]']              \n",
            "                                                                                                  \n",
            " dropout_17 (Dropout)           (None, 1, 1, 1280)   0           ['re_lu_33[0][0]']               \n",
            "                                                                                                  \n",
            " flatten (Flatten)              (None, 1280)         0           ['dropout_17[0][0]']             \n",
            "                                                                                                  \n",
            " dense (Dense)                  (None, 10)           12810       ['flatten[0][0]']                \n",
            "                                                                                                  \n",
            "==================================================================================================\n",
            "Total params: 2,765,226\n",
            "Trainable params: 2,736,234\n",
            "Non-trainable params: 28,992\n",
            "__________________________________________________________________________________________________\n"
          ]
        }
      ],
      "source": [
        "my_mobilenet.summary()"
      ]
    },
    {
      "cell_type": "markdown",
      "metadata": {
        "id": "O69GTfOTzxeo"
      },
      "source": [
        "## Training Data\n",
        "\n",
        "- keras dataset 혹은 tensorflow dataset 이용\n",
        "- train data를 9:1로 나눠서 validation data로 이용"
      ]
    },
    {
      "cell_type": "code",
      "execution_count": 7,
      "metadata": {
        "colab": {
          "base_uri": "https://localhost:8080/"
        },
        "id": "azOxenuyzxep",
        "outputId": "252626ed-9082-4298-9416-5cd06d85505a",
        "scrolled": false
      },
      "outputs": [
        {
          "name": "stdout",
          "output_type": "stream",
          "text": [
            "Downloading data from https://www.cs.toronto.edu/~kriz/cifar-10-python.tar.gz\n",
            "170498071/170498071 [==============================] - 13s 0us/step\n"
          ]
        }
      ],
      "source": [
        "from tensorflow.keras.datasets import cifar10\n",
        "#Load data\n",
        "(x_train, y_train), (x_test, y_test) = cifar10.load_data()\n",
        "\n",
        "#Split train set into train/valid set\n",
        "from sklearn import model_selection\n",
        "x_train, x_valid, y_train, y_valid = model_selection.train_test_split(x_train, y_train,test_size=0.1)"
      ]
    },
    {
      "cell_type": "markdown",
      "metadata": {
        "id": "v1R87-fgzxep"
      },
      "source": [
        "## Data Preprocessing\n",
        "자유롭게 전처리"
      ]
    },
    {
      "cell_type": "code",
      "execution_count": 8,
      "metadata": {
        "id": "ZYETZHz1zxep",
        "scrolled": false
      },
      "outputs": [],
      "source": [
        "### Q3. Preporcessing ###\n",
        "x_train = tf.keras.layers.experimental.preprocessing.Rescaling(1./255)(x_train)\n",
        "x_valid = tf.keras.layers.experimental.preprocessing.Rescaling(1./255)(x_valid)\n",
        "x_test = tf.keras.layers.experimental.preprocessing.Rescaling(1./255)(x_test)\n",
        "#########################"
      ]
    },
    {
      "cell_type": "markdown",
      "metadata": {
        "id": "z6BOLhxLzxep"
      },
      "source": [
        "## Model Compile\n",
        "loss function, optimizer 설정"
      ]
    },
    {
      "cell_type": "code",
      "execution_count": 51,
      "metadata": {
        "id": "5kti2fkFzxep",
        "scrolled": false
      },
      "outputs": [],
      "source": [
        "### Q4. Model compile ###\n",
        "my_mobilenet.compile(optimizer=tf.keras.optimizers.Adam(),\n",
        "                     loss='sparse_categorical_crossentropy', metrics=['accuracy'])\n",
        "#########################"
      ]
    },
    {
      "cell_type": "code",
      "execution_count": 43,
      "metadata": {
        "id": "DSOCZ5ctzxeq",
        "scrolled": false
      },
      "outputs": [],
      "source": [
        "### Q5. Callbacks ###\n",
        "callbacks = []\n",
        "\n",
        "def decay(epoch):\n",
        "    ####### 실습 #######\n",
        "    if epoch < 5:\n",
        "        return 0.0005\n",
        "    else:\n",
        "        return 0.001\n",
        "\n",
        "#callbacks.append(tf.keras.callbacks.TensorBoard(log_dir=log_dir, histogram_freq=1))\n",
        "#callbacks.append(tf.keras.callbacks.LearningRateScheduler(decay))\n",
        "#####################"
      ]
    },
    {
      "cell_type": "markdown",
      "metadata": {
        "id": "z2w6KyPvzxeq"
      },
      "source": [
        "## Model Training\n",
        "hyperparameter를 적절히 설정한다. (epochs 등..)"
      ]
    },
    {
      "cell_type": "code",
      "execution_count": 52,
      "metadata": {
        "colab": {
          "base_uri": "https://localhost:8080/"
        },
        "id": "3nOCP5xxzxeq",
        "outputId": "64d1ff64-a9c8-416e-bc35-8ee64f79122a",
        "scrolled": false
      },
      "outputs": [
        {
          "name": "stdout",
          "output_type": "stream",
          "text": [
            "Epoch 1/100\n",
            "704/704 [==============================] - 23s 24ms/step - loss: 2.2245 - accuracy: 0.2162 - val_loss: 2.4789 - val_accuracy: 0.0974\n",
            "Epoch 2/100\n",
            "704/704 [==============================] - 15s 21ms/step - loss: 1.8422 - accuracy: 0.3600 - val_loss: 2.5038 - val_accuracy: 0.0974\n",
            "Epoch 3/100\n",
            "704/704 [==============================] - 16s 22ms/step - loss: 1.7023 - accuracy: 0.4185 - val_loss: 2.4670 - val_accuracy: 0.0974\n",
            "Epoch 4/100\n",
            "704/704 [==============================] - 15s 21ms/step - loss: 1.5914 - accuracy: 0.4685 - val_loss: 2.4733 - val_accuracy: 0.0996\n",
            "Epoch 5/100\n",
            "704/704 [==============================] - 15s 22ms/step - loss: 1.4967 - accuracy: 0.5058 - val_loss: 2.4374 - val_accuracy: 0.1004\n",
            "Epoch 6/100\n",
            "704/704 [==============================] - 15s 22ms/step - loss: 1.4191 - accuracy: 0.5359 - val_loss: 2.2692 - val_accuracy: 0.1862\n",
            "Epoch 7/100\n",
            "704/704 [==============================] - 15s 22ms/step - loss: 1.3557 - accuracy: 0.5619 - val_loss: 1.8492 - val_accuracy: 0.3756\n",
            "Epoch 8/100\n",
            "704/704 [==============================] - 15s 21ms/step - loss: 1.3043 - accuracy: 0.5785 - val_loss: 1.4827 - val_accuracy: 0.5432\n",
            "Epoch 9/100\n",
            "704/704 [==============================] - 15s 21ms/step - loss: 1.2495 - accuracy: 0.5960 - val_loss: 2.2018 - val_accuracy: 0.4536\n",
            "Epoch 10/100\n",
            "704/704 [==============================] - 15s 22ms/step - loss: 1.2113 - accuracy: 0.6107 - val_loss: 1.9306 - val_accuracy: 0.4902\n",
            "Epoch 11/100\n",
            "704/704 [==============================] - 15s 21ms/step - loss: 1.2356 - accuracy: 0.6044 - val_loss: 1.8287 - val_accuracy: 0.5174\n",
            "Epoch 12/100\n",
            "704/704 [==============================] - 15s 21ms/step - loss: 1.1503 - accuracy: 0.6299 - val_loss: 1.2852 - val_accuracy: 0.6214\n",
            "Epoch 13/100\n",
            "704/704 [==============================] - 15s 21ms/step - loss: 1.1135 - accuracy: 0.6448 - val_loss: 1.6734 - val_accuracy: 0.5392\n",
            "Epoch 14/100\n",
            "704/704 [==============================] - 15s 21ms/step - loss: 1.0887 - accuracy: 0.6556 - val_loss: 1.1559 - val_accuracy: 0.6506\n",
            "Epoch 15/100\n",
            "704/704 [==============================] - 15s 21ms/step - loss: 1.0708 - accuracy: 0.6617 - val_loss: 0.9981 - val_accuracy: 0.6982\n",
            "Epoch 16/100\n",
            "704/704 [==============================] - 15s 22ms/step - loss: 1.0580 - accuracy: 0.6670 - val_loss: 1.0009 - val_accuracy: 0.7034\n",
            "Epoch 17/100\n",
            "704/704 [==============================] - 15s 22ms/step - loss: 1.0390 - accuracy: 0.6753 - val_loss: 1.0290 - val_accuracy: 0.6896\n",
            "Epoch 18/100\n",
            "704/704 [==============================] - 15s 21ms/step - loss: 1.0020 - accuracy: 0.6866 - val_loss: 1.0520 - val_accuracy: 0.6786\n",
            "Epoch 19/100\n",
            "704/704 [==============================] - 15s 21ms/step - loss: 0.9847 - accuracy: 0.6966 - val_loss: 0.8940 - val_accuracy: 0.7338\n",
            "Epoch 20/100\n",
            "704/704 [==============================] - 15s 21ms/step - loss: 0.9858 - accuracy: 0.6966 - val_loss: 1.1183 - val_accuracy: 0.6842\n",
            "Epoch 21/100\n",
            "704/704 [==============================] - 15s 22ms/step - loss: 0.9709 - accuracy: 0.7029 - val_loss: 0.9267 - val_accuracy: 0.7206\n",
            "Epoch 22/100\n",
            "704/704 [==============================] - 15s 21ms/step - loss: 0.9597 - accuracy: 0.7056 - val_loss: 0.9456 - val_accuracy: 0.7244\n",
            "Epoch 23/100\n",
            "704/704 [==============================] - 15s 21ms/step - loss: 0.9542 - accuracy: 0.7121 - val_loss: 1.4398 - val_accuracy: 0.6020\n",
            "Epoch 24/100\n",
            "704/704 [==============================] - 15s 21ms/step - loss: 1.0336 - accuracy: 0.6831 - val_loss: 0.9601 - val_accuracy: 0.7144\n",
            "Epoch 25/100\n",
            "704/704 [==============================] - 15s 21ms/step - loss: 0.9364 - accuracy: 0.7174 - val_loss: 0.8630 - val_accuracy: 0.7458\n",
            "Epoch 26/100\n",
            "704/704 [==============================] - 15s 22ms/step - loss: 0.9208 - accuracy: 0.7218 - val_loss: 0.9103 - val_accuracy: 0.7300\n",
            "Epoch 27/100\n",
            "704/704 [==============================] - 15s 22ms/step - loss: 0.9242 - accuracy: 0.7251 - val_loss: 0.8968 - val_accuracy: 0.7286\n",
            "Epoch 28/100\n",
            "704/704 [==============================] - 15s 21ms/step - loss: 0.9249 - accuracy: 0.7225 - val_loss: 0.9062 - val_accuracy: 0.7244\n",
            "Epoch 29/100\n",
            "704/704 [==============================] - 15s 21ms/step - loss: 0.8760 - accuracy: 0.7396 - val_loss: 0.8194 - val_accuracy: 0.7442\n",
            "Epoch 30/100\n",
            "704/704 [==============================] - 15s 21ms/step - loss: 0.9063 - accuracy: 0.7321 - val_loss: 0.9793 - val_accuracy: 0.7126\n",
            "Epoch 31/100\n",
            "704/704 [==============================] - 15s 22ms/step - loss: 0.8850 - accuracy: 0.7391 - val_loss: 1.2710 - val_accuracy: 0.6318\n",
            "Epoch 32/100\n",
            "704/704 [==============================] - 15s 22ms/step - loss: 0.8903 - accuracy: 0.7362 - val_loss: 0.8590 - val_accuracy: 0.7492\n",
            "Epoch 33/100\n",
            "704/704 [==============================] - 15s 21ms/step - loss: 0.8487 - accuracy: 0.7507 - val_loss: 0.9485 - val_accuracy: 0.7186\n",
            "Epoch 34/100\n",
            "704/704 [==============================] - 15s 21ms/step - loss: 0.9958 - accuracy: 0.7031 - val_loss: 1.0229 - val_accuracy: 0.7160\n",
            "Epoch 35/100\n",
            "704/704 [==============================] - 15s 21ms/step - loss: 0.8824 - accuracy: 0.7420 - val_loss: 0.8175 - val_accuracy: 0.7670\n",
            "Epoch 36/100\n",
            "704/704 [==============================] - 15s 22ms/step - loss: 0.8502 - accuracy: 0.7510 - val_loss: 0.8188 - val_accuracy: 0.7564\n",
            "Epoch 37/100\n",
            "704/704 [==============================] - 15s 22ms/step - loss: 0.8440 - accuracy: 0.7548 - val_loss: 0.8698 - val_accuracy: 0.7360\n",
            "Epoch 38/100\n",
            "704/704 [==============================] - 15s 21ms/step - loss: 0.9275 - accuracy: 0.7290 - val_loss: 0.9695 - val_accuracy: 0.7224\n",
            "Epoch 39/100\n",
            "704/704 [==============================] - 15s 21ms/step - loss: 0.9090 - accuracy: 0.7368 - val_loss: 0.8301 - val_accuracy: 0.7742\n",
            "Epoch 40/100\n",
            "704/704 [==============================] - 15s 21ms/step - loss: 0.9342 - accuracy: 0.7278 - val_loss: 0.9635 - val_accuracy: 0.7126\n",
            "Epoch 41/100\n",
            "704/704 [==============================] - 15s 21ms/step - loss: 0.9275 - accuracy: 0.7282 - val_loss: 0.9281 - val_accuracy: 0.7298\n",
            "Epoch 42/100\n",
            "704/704 [==============================] - 15s 21ms/step - loss: 0.9494 - accuracy: 0.7256 - val_loss: 3.1210 - val_accuracy: 0.3736\n",
            "Epoch 43/100\n",
            "704/704 [==============================] - 15s 22ms/step - loss: 1.1099 - accuracy: 0.6709 - val_loss: 1.5353 - val_accuracy: 0.5422\n",
            "Epoch 44/100\n",
            "704/704 [==============================] - 15s 21ms/step - loss: 1.0926 - accuracy: 0.6766 - val_loss: 1.1093 - val_accuracy: 0.6668\n",
            "Epoch 45/100\n",
            "704/704 [==============================] - 15s 21ms/step - loss: 1.0507 - accuracy: 0.6910 - val_loss: 1.4270 - val_accuracy: 0.6090\n",
            "Epoch 46/100\n",
            "704/704 [==============================] - 15s 21ms/step - loss: 0.9660 - accuracy: 0.7212 - val_loss: 0.9272 - val_accuracy: 0.7480\n",
            "Epoch 47/100\n",
            "704/704 [==============================] - 16s 22ms/step - loss: 0.9001 - accuracy: 0.7458 - val_loss: 0.8332 - val_accuracy: 0.7602\n",
            "Epoch 48/100\n",
            "704/704 [==============================] - 15s 22ms/step - loss: 0.8896 - accuracy: 0.7469 - val_loss: 0.9982 - val_accuracy: 0.7204\n",
            "Epoch 49/100\n",
            "704/704 [==============================] - 15s 21ms/step - loss: 1.0087 - accuracy: 0.7095 - val_loss: 0.9746 - val_accuracy: 0.7242\n",
            "Epoch 50/100\n",
            "704/704 [==============================] - 15s 21ms/step - loss: 0.9017 - accuracy: 0.7429 - val_loss: 0.9281 - val_accuracy: 0.7342\n",
            "Epoch 51/100\n",
            "704/704 [==============================] - 15s 21ms/step - loss: 0.8477 - accuracy: 0.7618 - val_loss: 0.7959 - val_accuracy: 0.7716\n",
            "Epoch 52/100\n",
            "704/704 [==============================] - 15s 21ms/step - loss: 0.8268 - accuracy: 0.7667 - val_loss: 0.7759 - val_accuracy: 0.7750\n",
            "Epoch 53/100\n",
            "704/704 [==============================] - 15s 21ms/step - loss: 0.8582 - accuracy: 0.7551 - val_loss: 0.8162 - val_accuracy: 0.7640\n",
            "Epoch 54/100\n",
            "704/704 [==============================] - 15s 22ms/step - loss: 0.8357 - accuracy: 0.7633 - val_loss: 0.7795 - val_accuracy: 0.7804\n",
            "Epoch 55/100\n",
            "704/704 [==============================] - 15s 21ms/step - loss: 0.8158 - accuracy: 0.7697 - val_loss: 0.8095 - val_accuracy: 0.7724\n",
            "Epoch 56/100\n",
            "704/704 [==============================] - 15s 21ms/step - loss: 0.8161 - accuracy: 0.7705 - val_loss: 0.8064 - val_accuracy: 0.7678\n",
            "Epoch 57/100\n",
            "704/704 [==============================] - 16s 22ms/step - loss: 1.2076 - accuracy: 0.6399 - val_loss: 1.2537 - val_accuracy: 0.6636\n",
            "Epoch 58/100\n",
            "704/704 [==============================] - 15s 22ms/step - loss: 0.9406 - accuracy: 0.7328 - val_loss: 1.0138 - val_accuracy: 0.7218\n",
            "Epoch 59/100\n",
            "704/704 [==============================] - 15s 21ms/step - loss: 0.9019 - accuracy: 0.7466 - val_loss: 1.0332 - val_accuracy: 0.7128\n",
            "Epoch 60/100\n",
            "704/704 [==============================] - 15s 21ms/step - loss: 0.8773 - accuracy: 0.7535 - val_loss: 1.0247 - val_accuracy: 0.7028\n",
            "Epoch 61/100\n",
            "704/704 [==============================] - 15s 21ms/step - loss: 0.8571 - accuracy: 0.7587 - val_loss: 0.8071 - val_accuracy: 0.7802\n",
            "Epoch 62/100\n",
            "704/704 [==============================] - 15s 21ms/step - loss: 0.8332 - accuracy: 0.7686 - val_loss: 1.0225 - val_accuracy: 0.7062\n",
            "Epoch 63/100\n",
            "704/704 [==============================] - 15s 21ms/step - loss: 0.8239 - accuracy: 0.7718 - val_loss: 0.8402 - val_accuracy: 0.7616\n",
            "Epoch 64/100\n",
            "704/704 [==============================] - 15s 22ms/step - loss: 0.8157 - accuracy: 0.7742 - val_loss: 0.8166 - val_accuracy: 0.7696\n",
            "Epoch 65/100\n",
            "704/704 [==============================] - 15s 21ms/step - loss: 0.7974 - accuracy: 0.7777 - val_loss: 0.7493 - val_accuracy: 0.7898\n",
            "Epoch 66/100\n",
            "704/704 [==============================] - 15s 21ms/step - loss: 0.8614 - accuracy: 0.7590 - val_loss: 2.8114 - val_accuracy: 0.4382\n",
            "Epoch 67/100\n",
            "704/704 [==============================] - 15s 22ms/step - loss: 0.8409 - accuracy: 0.7639 - val_loss: 0.9011 - val_accuracy: 0.7466\n",
            "Epoch 68/100\n",
            "704/704 [==============================] - 16s 22ms/step - loss: 0.8261 - accuracy: 0.7690 - val_loss: 1.1808 - val_accuracy: 0.6488\n",
            "Epoch 69/100\n",
            "704/704 [==============================] - 15s 21ms/step - loss: 0.9604 - accuracy: 0.7245 - val_loss: 1.0148 - val_accuracy: 0.7060\n",
            "Epoch 70/100\n",
            "704/704 [==============================] - 15s 21ms/step - loss: 0.9427 - accuracy: 0.7324 - val_loss: 0.8476 - val_accuracy: 0.7702\n",
            "Epoch 71/100\n",
            "704/704 [==============================] - 15s 21ms/step - loss: 0.9074 - accuracy: 0.7440 - val_loss: 0.9505 - val_accuracy: 0.7338\n",
            "Epoch 72/100\n",
            "704/704 [==============================] - 15s 21ms/step - loss: 0.8933 - accuracy: 0.7472 - val_loss: 0.8668 - val_accuracy: 0.7640\n",
            "Epoch 73/100\n",
            "704/704 [==============================] - 15s 21ms/step - loss: 0.8379 - accuracy: 0.7687 - val_loss: 0.7989 - val_accuracy: 0.7830\n",
            "Epoch 74/100\n",
            "704/704 [==============================] - 15s 21ms/step - loss: 0.8641 - accuracy: 0.7592 - val_loss: 1.0415 - val_accuracy: 0.7134\n",
            "Epoch 75/100\n",
            "704/704 [==============================] - 15s 22ms/step - loss: 0.8308 - accuracy: 0.7725 - val_loss: 0.7566 - val_accuracy: 0.7958\n",
            "Epoch 76/100\n",
            "704/704 [==============================] - 15s 21ms/step - loss: 0.7900 - accuracy: 0.7844 - val_loss: 0.7944 - val_accuracy: 0.7790\n",
            "Epoch 77/100\n",
            "704/704 [==============================] - 15s 21ms/step - loss: 0.7965 - accuracy: 0.7803 - val_loss: 0.7661 - val_accuracy: 0.7810\n",
            "Epoch 78/100\n",
            "704/704 [==============================] - 16s 22ms/step - loss: 0.7934 - accuracy: 0.7815 - val_loss: 0.7847 - val_accuracy: 0.7776\n",
            "Epoch 79/100\n",
            "704/704 [==============================] - 16s 22ms/step - loss: 0.7818 - accuracy: 0.7841 - val_loss: 0.8977 - val_accuracy: 0.7392\n",
            "Epoch 80/100\n",
            "704/704 [==============================] - 15s 21ms/step - loss: 0.7875 - accuracy: 0.7818 - val_loss: 0.7882 - val_accuracy: 0.7906\n",
            "Epoch 81/100\n",
            "704/704 [==============================] - 15s 21ms/step - loss: 0.7848 - accuracy: 0.7847 - val_loss: 0.7327 - val_accuracy: 0.7992\n",
            "Epoch 82/100\n",
            "704/704 [==============================] - 15s 21ms/step - loss: 0.7881 - accuracy: 0.7820 - val_loss: 0.7322 - val_accuracy: 0.8000\n",
            "Epoch 83/100\n",
            "704/704 [==============================] - 15s 21ms/step - loss: 0.8290 - accuracy: 0.7692 - val_loss: 0.8536 - val_accuracy: 0.7620\n",
            "Epoch 84/100\n",
            "704/704 [==============================] - 15s 21ms/step - loss: 0.8393 - accuracy: 0.7663 - val_loss: 0.8555 - val_accuracy: 0.7788\n",
            "Epoch 85/100\n",
            "704/704 [==============================] - 15s 21ms/step - loss: 0.8737 - accuracy: 0.7571 - val_loss: 0.9751 - val_accuracy: 0.7258\n",
            "Epoch 86/100\n",
            "704/704 [==============================] - 15s 22ms/step - loss: 0.9772 - accuracy: 0.7222 - val_loss: 0.9120 - val_accuracy: 0.7470\n",
            "Epoch 87/100\n",
            "704/704 [==============================] - 15s 21ms/step - loss: 0.8548 - accuracy: 0.7645 - val_loss: 0.8724 - val_accuracy: 0.7584\n",
            "Epoch 88/100\n",
            "704/704 [==============================] - 16s 22ms/step - loss: 0.8093 - accuracy: 0.7809 - val_loss: 0.7629 - val_accuracy: 0.7912\n",
            "Epoch 89/100\n",
            "704/704 [==============================] - 15s 22ms/step - loss: 0.8074 - accuracy: 0.7791 - val_loss: 0.9515 - val_accuracy: 0.7122\n",
            "Epoch 90/100\n",
            "704/704 [==============================] - 15s 21ms/step - loss: 0.8829 - accuracy: 0.7556 - val_loss: 0.8152 - val_accuracy: 0.7828\n",
            "Epoch 91/100\n",
            "704/704 [==============================] - 15s 21ms/step - loss: 0.8497 - accuracy: 0.7663 - val_loss: 0.8451 - val_accuracy: 0.7650\n",
            "Epoch 92/100\n",
            "704/704 [==============================] - 15s 21ms/step - loss: 0.8341 - accuracy: 0.7692 - val_loss: 0.8404 - val_accuracy: 0.7648\n",
            "Epoch 93/100\n",
            "704/704 [==============================] - 15s 21ms/step - loss: 0.8589 - accuracy: 0.7625 - val_loss: 0.8269 - val_accuracy: 0.7758\n",
            "Epoch 94/100\n",
            "704/704 [==============================] - 15s 21ms/step - loss: 0.8457 - accuracy: 0.7658 - val_loss: 0.8186 - val_accuracy: 0.7824\n",
            "Epoch 95/100\n",
            "704/704 [==============================] - 15s 21ms/step - loss: 0.7917 - accuracy: 0.7866 - val_loss: 0.7407 - val_accuracy: 0.8016\n",
            "Epoch 96/100\n",
            "704/704 [==============================] - 15s 21ms/step - loss: 0.8812 - accuracy: 0.7569 - val_loss: 0.8677 - val_accuracy: 0.7686\n",
            "Epoch 97/100\n",
            "704/704 [==============================] - 15s 22ms/step - loss: 0.8144 - accuracy: 0.7787 - val_loss: 0.7536 - val_accuracy: 0.7984\n",
            "Epoch 98/100\n",
            "704/704 [==============================] - 16s 22ms/step - loss: 0.9504 - accuracy: 0.7334 - val_loss: 1.5090 - val_accuracy: 0.6264\n",
            "Epoch 99/100\n",
            "704/704 [==============================] - 16s 22ms/step - loss: 0.8709 - accuracy: 0.7618 - val_loss: 0.7985 - val_accuracy: 0.7942\n",
            "Epoch 100/100\n",
            "704/704 [==============================] - 15s 22ms/step - loss: 0.8149 - accuracy: 0.7792 - val_loss: 0.7496 - val_accuracy: 0.8050\n"
          ]
        }
      ],
      "source": [
        "### Q6. Training ###\n",
        "history = my_mobilenet.fit(x_train, y_train, batch_size=64, \n",
        "                          epochs= 100,\n",
        "                          callbacks=callbacks,              \n",
        "                          validation_data=(x_valid, y_valid))\n",
        "####################"
      ]
    },
    {
      "cell_type": "markdown",
      "metadata": {
        "id": "7WzvdkTkzxeq"
      },
      "source": [
        "## 참고용\n",
        "조교가 학습한 모델의 validation accuracy를 그래프로 나타내 보았다."
      ]
    },
    {
      "cell_type": "code",
      "execution_count": null,
      "metadata": {
        "id": "rcd2exS-zxeq",
        "outputId": "9dc6b7ab-535f-40ee-f643-4ea62206c140",
        "scrolled": false
      },
      "outputs": [
        {
          "data": {
            "image/png": "[encoded data removed]",
            "text/plain": [
              "<Figure size 432x288 with 1 Axes>"
            ]
          },
          "metadata": {
            "needs_background": "light"
          },
          "output_type": "display_data"
        }
      ],
      "source": [
        "import matplotlib.pyplot as plt\n",
        "\n",
        "plt.plot(history.history['val_accuracy'])\n",
        "plt.title('Validation Accuracy', fontsize=15)\n",
        "plt.xlabel('epochs', fontsize=15)\n",
        "plt.ylabel('Acc.', fontsize=15)\n",
        "\n",
        "plt.show()"
      ]
    },
    {
      "cell_type": "code",
      "execution_count": 53,
      "metadata": {
        "colab": {
          "base_uri": "https://localhost:8080/",
          "height": 302
        },
        "id": "vc8h7Je3pD94",
        "outputId": "1e8f95e8-2da7-4e3e-d3d8-dadadfb886ff"
      },
      "outputs": [
        {
          "data": {
            "image/png": "[encoded data removed]",
            "text/plain": [
              "<Figure size 432x288 with 1 Axes>"
            ]
          },
          "metadata": {
            "needs_background": "light"
          },
          "output_type": "display_data"
        }
      ],
      "source": [
        "import matplotlib.pyplot as plt\n",
        "\n",
        "plt.plot(history.history['val_accuracy'])\n",
        "plt.title('Validation Accuracy', fontsize=15)\n",
        "plt.xlabel('epochs', fontsize=15)\n",
        "plt.ylabel('Acc.', fontsize=15)\n",
        "\n",
        "plt.show()"
      ]
    },
    {
      "cell_type": "markdown",
      "metadata": {
        "id": "uLf12NSyzxer"
      },
      "source": [
        "## Test Accuracy\n",
        "\n",
        "test accuracy 측정 결과 **80% 이상**이 나와야 한다."
      ]
    },
    {
      "cell_type": "code",
      "execution_count": 54,
      "metadata": {
        "colab": {
          "base_uri": "https://localhost:8080/"
        },
        "id": "6TZdoqT9zxer",
        "outputId": "fe890565-fcb8-478b-e793-d79bc9815364",
        "scrolled": false
      },
      "outputs": [
        {
          "name": "stdout",
          "output_type": "stream",
          "text": [
            "313/313 [==============================] - 2s 8ms/step - loss: 0.7732 - accuracy: 0.7916\n"
          ]
        },
        {
          "data": {
            "text/plain": [
              "[0.7732448577880859, 0.7915999889373779]"
            ]
          },
          "execution_count": 54,
          "metadata": {},
          "output_type": "execute_result"
        }
      ],
      "source": [
        "my_mobilenet.evaluate(x_test,y_test)"
      ]
    },
    {
      "cell_type": "code",
      "execution_count": null,
      "metadata": {
        "id": "B3w4juXElY0h"
      },
      "outputs": [],
      "source": []
    }
  ],
  "metadata": {
    "accelerator": "GPU",
    "colab": {
      "provenance": []
    },
    "gpuClass": "standard",
    "kernelspec": {
      "display_name": "Python 3",
      "language": "python",
      "name": "python3"
    },
    "language_info": {
      "codemirror_mode": {
        "name": "ipython",
        "version": 3
      },
      "file_extension": ".py",
      "mimetype": "text/x-python",
      "name": "python",
      "nbconvert_exporter": "python",
      "pygments_lexer": "ipython3",
      "version": "3.8.10"
    }
  },
  "nbformat": 4,
  "nbformat_minor": 0
}
